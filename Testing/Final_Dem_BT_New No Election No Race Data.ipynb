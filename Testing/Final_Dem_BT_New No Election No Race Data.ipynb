{
 "cells": [
  {
   "cell_type": "markdown",
   "metadata": {},
   "source": [
    "This script generates Democratic primary boosted tree models, tested on both the 2018 senate and governor's primaries, without the past turnout, presidential margin, or racial data."
   ]
  },
  {
   "cell_type": "code",
   "execution_count": 19,
   "metadata": {},
   "outputs": [],
   "source": [
    "#Import packages\n",
    "import pandas as pd\n",
    "import re\n",
    "import matplotlib.pyplot as plt\n",
    "from numpy import mean\n",
    "from numpy import std\n",
    "from sklearn.datasets import make_regression\n",
    "from sklearn.model_selection import cross_val_score\n",
    "from sklearn.model_selection import RepeatedKFold\n",
    "from sklearn.ensemble import RandomForestRegressor\n",
    "pd.options.mode.chained_assignment = None \n",
    "import numpy as np\n",
    "from sklearn import metrics\n",
    "from matplotlib import pyplot\n",
    "from sklearn.linear_model import LinearRegression\n",
    "from sklearn.ensemble import ExtraTreesRegressor\n",
    "from sklearn.ensemble import GradientBoostingRegressor\n",
    "\n",
    "np.random.seed(5)"
   ]
  },
  {
   "cell_type": "code",
   "execution_count": 20,
   "metadata": {},
   "outputs": [],
   "source": [
    "#Read in data and filter out test data\n",
    "\n",
    "turnout_train_dem = pd.read_csv(\"turnout_train_dem.csv\")\n",
    "\n",
    "\n",
    "\n",
    "turnout_train_dem_use = turnout_train_dem[turnout_train_dem['Year'] != 2018]\n",
    "\n",
    "\n",
    "\n"
   ]
  },
  {
   "cell_type": "code",
   "execution_count": 21,
   "metadata": {},
   "outputs": [
    {
     "name": "stdout",
     "output_type": "stream",
     "text": [
      "Training\n",
      "R^2:  0.8681636260498125\n",
      "Mean Absolute Error (MAE): 1.9422164056028655\n",
      "Mean Squared Error (MSE): 8.095037898322584\n"
     ]
    },
    {
     "data": {
      "image/png": "[encoded data removed]",
      "text/plain": [
       "<Figure size 432x288 with 1 Axes>"
      ]
     },
     "metadata": {
      "needs_background": "light"
     },
     "output_type": "display_data"
    }
   ],
   "source": [
    "\n",
    "#Boosted Trees: Dem model\n",
    "\n",
    "turnout_train_dem_mod = turnout_train_dem_use\n",
    "\n",
    "#Specify features and outcome\n",
    "model_feats = turnout_train_dem_mod.drop(['Rep_Margin', 'past_turnout','Unnamed: 0','Unnamed: 0.1', 'County', 'Election', 'Turnout','Party', 'Type', 'Runoff', 'hispanic', 'black', 'white', 'asian', 'aapi', 'native', 'non-hispanic white'], axis = 1)\n",
    "\n",
    "model_outcome = turnout_train_dem_mod['Turnout']\n",
    "\n",
    "#Create model\n",
    "bt = GradientBoostingRegressor()\n",
    "bt.fit(model_feats, model_outcome);\n",
    "\n",
    "#Make predictions\n",
    "pred = bt.predict(model_feats)\n",
    "\n",
    "#Print Score\n",
    "print(\"Training\")\n",
    "\n",
    "print(\"R^2: \",bt.score(model_feats, model_outcome))\n",
    "\n",
    "\n",
    "#Print error\n",
    "print('Mean Absolute Error (MAE):', metrics.mean_absolute_error(model_outcome, pred))\n",
    "print('Mean Squared Error (MSE):', metrics.mean_squared_error(model_outcome, pred))\n",
    "\n",
    "\n",
    "#Show Importances\n",
    "importances = bt.feature_importances_\n",
    "\n",
    "forest_importances = pd.Series(importances, index=model_feats.columns)\n",
    "\n",
    "fig, ax = plt.subplots()\n",
    "forest_importances.plot.bar(color = 'blue')\n",
    "plt.title(\"Feature importances: BT, No Past Election/Race Data, Dem Model\")\n",
    "plt.ylabel(\"Mean Decrease in Impurity\")\n",
    "plt.xlabel(\"Features\")\n",
    "fig.tight_layout()\n"
   ]
  },
  {
   "cell_type": "code",
   "execution_count": 22,
   "metadata": {},
   "outputs": [
    {
     "name": "stdout",
     "output_type": "stream",
     "text": [
      "Testing: Dem Sen 2018\n",
      "R^2:  0.5341173396260719\n",
      "Mean Absolute Error (MAE): 2.664276404003813\n",
      "Mean Squared Error (MSE): 19.62832723513586\n"
     ]
    }
   ],
   "source": [
    "np.random.seed(5)\n",
    "#Test on 2018 Senate race\n",
    "turnout_train_dem_mod = turnout_train_dem\n",
    "\n",
    "#Specify election\n",
    "turnout_train_dem_mod = turnout_train_dem_mod[turnout_train_dem_mod['Election'] == '2018_Dem_Sen']\n",
    "\n",
    "\n",
    "#Specify features and outcome\n",
    "model_feats = turnout_train_dem_mod.drop(['Rep_Margin', 'past_turnout','Unnamed: 0','Unnamed: 0.1', 'County', 'Election', 'Turnout','Party', 'Type', 'Runoff', 'hispanic', 'black', 'white', 'asian', 'aapi', 'native', 'non-hispanic white'], axis = 1)\n",
    "model_outcome = turnout_train_dem_mod['Turnout']\n",
    "\n",
    "#make predictions\n",
    "pred = bt.predict(model_feats)\n",
    "\n",
    "#Print Score\n",
    "print(\"Testing: Dem Sen 2018\")\n",
    "\n",
    "print(\"R^2: \",bt.score(model_feats, model_outcome))\n",
    "\n",
    "\n",
    "#Print error\n",
    "print('Mean Absolute Error (MAE):', metrics.mean_absolute_error(model_outcome, pred))\n",
    "print('Mean Squared Error (MSE):', metrics.mean_squared_error(model_outcome, pred))\n",
    "\n"
   ]
  },
  {
   "cell_type": "code",
   "execution_count": 23,
   "metadata": {},
   "outputs": [
    {
     "name": "stdout",
     "output_type": "stream",
     "text": [
      "Testing: Dem Gov 2018\n",
      "R^2:  0.523720345254491\n",
      "Mean Absolute Error (MAE): 2.6653406857149102\n",
      "Mean Squared Error (MSE): 17.057761495838573\n"
     ]
    }
   ],
   "source": [
    "np.random.seed(5)\n",
    "#Test on 2018 Gov race\n",
    "turnout_train_dem_mod = turnout_train_dem\n",
    "#Specify election\n",
    "turnout_train_dem_mod = turnout_train_dem_mod[turnout_train_dem_mod['Election'] == '2018_Dem_Gov']\n",
    "#Specify features and outcome\n",
    "model_feats = turnout_train_dem_mod.drop(['Rep_Margin', 'past_turnout','Unnamed: 0','Unnamed: 0.1', 'County', 'Election', 'Turnout','Party', 'Type', 'Runoff', 'hispanic', 'black', 'white', 'asian', 'aapi', 'native', 'non-hispanic white'], axis = 1)\n",
    "model_outcome = turnout_train_dem_mod['Turnout']\n",
    "\n",
    "#make predictions\n",
    "pred = bt.predict(model_feats)\n",
    "\n",
    "#Print Score\n",
    "print(\"Testing: Dem Gov 2018\")\n",
    "\n",
    "print(\"R^2: \",bt.score(model_feats, model_outcome))\n",
    "\n",
    "\n",
    "#Print error\n",
    "print('Mean Absolute Error (MAE):', metrics.mean_absolute_error(model_outcome, pred))\n",
    "print('Mean Squared Error (MSE):', metrics.mean_squared_error(model_outcome, pred))\n",
    "\n"
   ]
  }
 ],
 "metadata": {
  "kernelspec": {
   "display_name": "ds",
   "language": "python",
   "name": "ds"
  },
  "language_info": {
   "codemirror_mode": {
    "name": "ipython",
    "version": 3
   },
   "file_extension": ".py",
   "mimetype": "text/x-python",
   "name": "python",
   "nbconvert_exporter": "python",
   "pygments_lexer": "ipython3",
   "version": "3.8.2"
  }
 },
 "nbformat": 4,
 "nbformat_minor": 4
}
