{
 "cells": [
  {
   "cell_type": "markdown",
   "metadata": {},
   "source": [
    "This script generates Democratic and Republican primary boosted tree models, tested on both the 2018 senate and governor's primaries."
   ]
  },
  {
   "cell_type": "code",
   "execution_count": 411,
   "metadata": {},
   "outputs": [],
   "source": [
    "#Import packages\n",
    "import pandas as pd\n",
    "import re\n",
    "import matplotlib.pyplot as plt\n",
    "from numpy import mean\n",
    "from numpy import std\n",
    "from sklearn.datasets import make_regression\n",
    "from sklearn.model_selection import cross_val_score\n",
    "from sklearn.model_selection import RepeatedKFold\n",
    "from sklearn.ensemble import RandomForestRegressor\n",
    "pd.options.mode.chained_assignment = None \n",
    "import numpy as np\n",
    "from sklearn import metrics\n",
    "from matplotlib import pyplot\n",
    "from sklearn.linear_model import LinearRegression\n",
    "from sklearn.ensemble import ExtraTreesRegressor\n",
    "from sklearn.ensemble import GradientBoostingRegressor\n",
    "\n",
    "np.random.seed(5)"
   ]
  },
  {
   "cell_type": "code",
   "execution_count": 412,
   "metadata": {},
   "outputs": [],
   "source": [
    "#Read in data and filter out test data\n",
    "turnout_train_rep = pd.read_csv(\"turnout_train_rep.csv\")\n",
    "turnout_train_dem = pd.read_csv(\"turnout_train_dem.csv\")\n",
    "\n",
    "\n",
    "turnout_train_rep_use = turnout_train_rep[turnout_train_rep['Year'] != 2018]\n",
    "turnout_train_dem_use = turnout_train_dem[turnout_train_dem['Year'] != 2018]\n",
    "\n",
    "\n",
    "\n"
   ]
  },
  {
   "cell_type": "code",
   "execution_count": 419,
   "metadata": {},
   "outputs": [
    {
     "name": "stdout",
     "output_type": "stream",
     "text": [
      "Training\n",
      "R^2:  0.9519136748358896\n",
      "Mean Absolute Error (MAE): 1.1443640912288553\n",
      "Mean Squared Error (MSE): 2.952604148090517\n"
     ]
    },
    {
     "data": {
      "image/png": "[encoded data removed]",
      "text/plain": [
       "<Figure size 432x288 with 1 Axes>"
      ]
     },
     "metadata": {
      "needs_background": "light"
     },
     "output_type": "display_data"
    }
   ],
   "source": [
    "\n",
    "#Boosted Trees: Dem model\n",
    "\n",
    "turnout_train_dem_mod = turnout_train_dem_use\n",
    "\n",
    "#Specify features and outcome\n",
    "model_feats = turnout_train_dem_mod.drop(['Unnamed: 0','Unnamed: 0.1', 'County', 'Election', 'Turnout','Party', 'Type', 'Runoff'], axis = 1)\n",
    "model_outcome = turnout_train_dem_mod['Turnout']\n",
    "\n",
    "#Create model\n",
    "bt = GradientBoostingRegressor()\n",
    "bt.fit(model_feats, model_outcome);\n",
    "\n",
    "#Make predictions\n",
    "pred = bt.predict(model_feats)\n",
    "\n",
    "#Print Score\n",
    "print(\"Training\")\n",
    "\n",
    "print(\"R^2: \",bt.score(model_feats, model_outcome))\n",
    "\n",
    "\n",
    "#Print error\n",
    "print('Mean Absolute Error (MAE):', metrics.mean_absolute_error(model_outcome, pred))\n",
    "print('Mean Squared Error (MSE):', metrics.mean_squared_error(model_outcome, pred))\n",
    "\n",
    "\n",
    "#Show Importances\n",
    "importances = bt.feature_importances_\n",
    "\n",
    "forest_importances = pd.Series(importances, index=model_feats.columns)\n",
    "\n",
    "fig, ax = plt.subplots()\n",
    "forest_importances.plot.bar(color = 'blue')\n",
    "plt.title(\"Feature importances: BT, Dem Model\")\n",
    "plt.ylabel(\"Mean Decrease in Impurity\")\n",
    "plt.xlabel(\"Features\")\n",
    "fig.tight_layout()\n"
   ]
  },
  {
   "cell_type": "code",
   "execution_count": 414,
   "metadata": {},
   "outputs": [
    {
     "name": "stdout",
     "output_type": "stream",
     "text": [
      "Testing: Dem Sen 2018\n",
      "R^2:  0.8580744048980077\n",
      "Mean Absolute Error (MAE): 1.4278241998191277\n",
      "Mean Squared Error (MSE): 5.979535751485975\n"
     ]
    }
   ],
   "source": [
    "np.random.seed(5)\n",
    "#Test on 2018 Senate race\n",
    "turnout_train_dem_mod = turnout_train_dem\n",
    "\n",
    "#Specify election\n",
    "turnout_train_dem_mod = turnout_train_dem_mod[turnout_train_dem_mod['Election'] == '2018_Dem_Sen']\n",
    "\n",
    "\n",
    "#Specify features and outcome\n",
    "model_feats = turnout_train_dem_mod.drop(['Unnamed: 0','Unnamed: 0.1', 'County', 'Election', 'Turnout','Party', 'Type', 'Runoff', ], axis = 1)\n",
    "model_outcome = turnout_train_dem_mod['Turnout']\n",
    "\n",
    "#make predictions\n",
    "pred = bt.predict(model_feats)\n",
    "\n",
    "#Print Score\n",
    "print(\"Testing: Dem Sen 2018\")\n",
    "\n",
    "print(\"R^2: \",bt.score(model_feats, model_outcome))\n",
    "\n",
    "\n",
    "#Print error\n",
    "print('Mean Absolute Error (MAE):', metrics.mean_absolute_error(model_outcome, pred))\n",
    "print('Mean Squared Error (MSE):', metrics.mean_squared_error(model_outcome, pred))\n",
    "\n"
   ]
  },
  {
   "cell_type": "code",
   "execution_count": 415,
   "metadata": {},
   "outputs": [
    {
     "name": "stdout",
     "output_type": "stream",
     "text": [
      "Testing: Dem Gov 2018\n",
      "R^2:  0.8154043225520422\n",
      "Mean Absolute Error (MAE): 1.5950713723810257\n",
      "Mean Squared Error (MSE): 6.611218866261477\n"
     ]
    }
   ],
   "source": [
    "np.random.seed(5)\n",
    "#Test on 2018 Gov race\n",
    "turnout_train_dem_mod = turnout_train_dem\n",
    "#Specify election\n",
    "turnout_train_dem_mod = turnout_train_dem_mod[turnout_train_dem_mod['Election'] == '2018_Dem_Gov']\n",
    "#Specify features and outcome\n",
    "model_feats = turnout_train_dem_mod.drop(['Unnamed: 0','Unnamed: 0.1', 'County', 'Election', 'Turnout','Party', 'Type', 'Runoff'], axis = 1)\n",
    "model_outcome = turnout_train_dem_mod['Turnout']\n",
    "\n",
    "#make predictions\n",
    "pred = bt.predict(model_feats)\n",
    "\n",
    "#Print Score\n",
    "print(\"Testing: Dem Gov 2018\")\n",
    "\n",
    "print(\"R^2: \",bt.score(model_feats, model_outcome))\n",
    "\n",
    "\n",
    "#Print error\n",
    "print('Mean Absolute Error (MAE):', metrics.mean_absolute_error(model_outcome, pred))\n",
    "print('Mean Squared Error (MSE):', metrics.mean_squared_error(model_outcome, pred))\n",
    "\n"
   ]
  },
  {
   "cell_type": "code",
   "execution_count": 416,
   "metadata": {},
   "outputs": [
    {
     "name": "stdout",
     "output_type": "stream",
     "text": [
      "Training\n",
      "R^2:  0.9311607373095993\n",
      "Mean Absolute Error (MAE): 1.8032980723050238\n",
      "Mean Squared Error (MSE): 5.8471974634714154\n"
     ]
    },
    {
     "data": {
      "image/png": "[encoded data removed]",
      "text/plain": [
       "<Figure size 432x288 with 1 Axes>"
      ]
     },
     "metadata": {
      "needs_background": "light"
     },
     "output_type": "display_data"
    }
   ],
   "source": [
    "np.random.seed(5)\n",
    "#Boosted Trees: Rep model\n",
    "\n",
    "turnout_train_rep_mod = turnout_train_rep_use\n",
    "\n",
    "\n",
    "#Specify features and outcome\n",
    "model_feats = turnout_train_rep_mod.drop(['Unnamed: 0','Unnamed: 0.1', 'County', 'Election', 'Turnout','Party', 'Type'], axis = 1)\n",
    "model_outcome = turnout_train_rep_mod['Turnout']\n",
    "\n",
    "#Create model\n",
    "bt = GradientBoostingRegressor()\n",
    "bt.fit(model_feats, model_outcome);\n",
    "\n",
    "#Make predictions\n",
    "pred = bt.predict(model_feats)\n",
    "\n",
    "#Print Score\n",
    "print(\"Training\")\n",
    "\n",
    "print(\"R^2: \",bt.score(model_feats, model_outcome))\n",
    "\n",
    "\n",
    "#Print error\n",
    "print('Mean Absolute Error (MAE):', metrics.mean_absolute_error(model_outcome, pred))\n",
    "print('Mean Squared Error (MSE):', metrics.mean_squared_error(model_outcome, pred))\n",
    "\n",
    "\n",
    "#Show Importances\n",
    "importances = bt.feature_importances_\n",
    "\n",
    "forest_importances = pd.Series(importances, index=model_feats.columns)\n",
    "\n",
    "fig, ax = plt.subplots()\n",
    "forest_importances.plot.bar(color = 'red')\n",
    "plt.title(\"Feature importances: BT, Rep Model\")\n",
    "plt.ylabel(\"Mean Decrease in Impurity\")\n",
    "plt.xlabel(\"Features\")\n",
    "fig.tight_layout()\n"
   ]
  },
  {
   "cell_type": "code",
   "execution_count": 417,
   "metadata": {},
   "outputs": [
    {
     "name": "stdout",
     "output_type": "stream",
     "text": [
      "Testing: Rep Sen 2018\n",
      "R^2:  0.6722413218493382\n",
      "Mean Absolute Error (MAE): 3.7603108862569816\n",
      "Mean Squared Error (MSE): 30.082775311495862\n"
     ]
    }
   ],
   "source": [
    "np.random.seed(5)\n",
    "#Test on 2018 Senate race\n",
    "turnout_train_rep_mod = turnout_train_rep\n",
    "#Specify election\n",
    "turnout_train_rep_mod = turnout_train_rep_mod[turnout_train_rep_mod['Election'] == '2018_Rep_Sen']\n",
    "#Specify features and outcome\n",
    "model_feats = turnout_train_rep_mod.drop(['Unnamed: 0','Unnamed: 0.1', 'County', 'Election', 'Turnout','Party', 'Type'], axis = 1)\n",
    "model_outcome = turnout_train_rep_mod['Turnout']\n",
    "\n",
    "#make predictions\n",
    "pred = bt.predict(model_feats)\n",
    "\n",
    "#Print Score\n",
    "print(\"Testing: Rep Sen 2018\")\n",
    "\n",
    "print(\"R^2: \",bt.score(model_feats, model_outcome))\n",
    "\n",
    "\n",
    "#Print error\n",
    "print('Mean Absolute Error (MAE):', metrics.mean_absolute_error(model_outcome, pred))\n",
    "print('Mean Squared Error (MSE):', metrics.mean_squared_error(model_outcome, pred))\n",
    "\n"
   ]
  },
  {
   "cell_type": "code",
   "execution_count": 418,
   "metadata": {
    "scrolled": true
   },
   "outputs": [
    {
     "name": "stdout",
     "output_type": "stream",
     "text": [
      "Testing: Rep Gov 2018\n",
      "R^2:  0.6705417774074192\n",
      "Mean Absolute Error (MAE): 3.758146852193988\n",
      "Mean Squared Error (MSE): 30.303354970897814\n"
     ]
    }
   ],
   "source": [
    "np.random.seed(5)\n",
    "#Test on 2018 Gov race\n",
    "turnout_train_rep_mod = turnout_train_rep\n",
    "#Specify election\n",
    "turnout_train_rep_mod = turnout_train_rep_mod[turnout_train_rep_mod['Election'] == '2018_Rep_Gov']\n",
    "#Specify features and outcome\n",
    "model_feats = turnout_train_rep_mod.drop(['Unnamed: 0','Unnamed: 0.1', 'County', 'Election', 'Turnout','Party', 'Type'], axis = 1)\n",
    "model_outcome = turnout_train_rep_mod['Turnout']\n",
    "\n",
    "#make predictions\n",
    "pred = bt.predict(model_feats)\n",
    "\n",
    "#Print Score\n",
    "print(\"Testing: Rep Gov 2018\")\n",
    "\n",
    "print(\"R^2: \",bt.score(model_feats, model_outcome))\n",
    "\n",
    "#Print error\n",
    "print('Mean Absolute Error (MAE):', metrics.mean_absolute_error(model_outcome, pred))\n",
    "print('Mean Squared Error (MSE):', metrics.mean_squared_error(model_outcome, pred))\n",
    "\n"
   ]
  }
 ],
 "metadata": {
  "kernelspec": {
   "display_name": "ds",
   "language": "python",
   "name": "ds"
  },
  "language_info": {
   "codemirror_mode": {
    "name": "ipython",
    "version": 3
   },
   "file_extension": ".py",
   "mimetype": "text/x-python",
   "name": "python",
   "nbconvert_exporter": "python",
   "pygments_lexer": "ipython3",
   "version": "3.8.2"
  }
 },
 "nbformat": 4,
 "nbformat_minor": 4
}
