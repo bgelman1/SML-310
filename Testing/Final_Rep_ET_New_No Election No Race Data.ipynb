{
 "cells": [
  {
   "cell_type": "markdown",
   "metadata": {},
   "source": [
    "This script generates Republican primary extra tree models, tested on both the 2018 senate and governor's primaries, without the past turnout, presidential margin, or racial data."
   ]
  },
  {
   "cell_type": "code",
   "execution_count": 28,
   "metadata": {},
   "outputs": [],
   "source": [
    "#Import packages\n",
    "import pandas as pd\n",
    "import re\n",
    "import matplotlib.pyplot as plt\n",
    "from numpy import mean\n",
    "from numpy import std\n",
    "from sklearn.datasets import make_regression\n",
    "from sklearn.model_selection import cross_val_score\n",
    "from sklearn.model_selection import RepeatedKFold\n",
    "from sklearn.ensemble import RandomForestRegressor\n",
    "pd.options.mode.chained_assignment = None \n",
    "import numpy as np\n",
    "from sklearn import metrics\n",
    "from matplotlib import pyplot\n",
    "from sklearn.linear_model import LinearRegression\n",
    "from sklearn.ensemble import ExtraTreesRegressor\n",
    "from sklearn.ensemble import GradientBoostingRegressor\n",
    "\n",
    "np.random.seed(5)"
   ]
  },
  {
   "cell_type": "code",
   "execution_count": 29,
   "metadata": {},
   "outputs": [],
   "source": [
    "#Read in data and filter out test data\n",
    "turnout_train_rep = pd.read_csv(\"turnout_train_rep.csv\")\n",
    "\n",
    "\n",
    "\n",
    "turnout_train_rep_use = turnout_train_rep[turnout_train_rep['Year'] != 2018]\n",
    "\n",
    "\n",
    "\n",
    "\n"
   ]
  },
  {
   "cell_type": "code",
   "execution_count": 22,
   "metadata": {},
   "outputs": [
    {
     "name": "stdout",
     "output_type": "stream",
     "text": [
      "Training\n",
      "R^2:  1.0\n",
      "Mean Absolute Error (MAE): 1.9474787049841823e-14\n",
      "Mean Squared Error (MSE): 6.950568890610737e-28\n"
     ]
    },
    {
     "data": {
      "image/png": "[encoded data removed]",
      "text/plain": [
       "<Figure size 432x288 with 1 Axes>"
      ]
     },
     "metadata": {
      "needs_background": "light"
     },
     "output_type": "display_data"
    }
   ],
   "source": [
    "np.random.seed(5)\n",
    "#Extra Trees: Rep model\n",
    "\n",
    "turnout_train_rep_mod = turnout_train_rep_use\n",
    "\n",
    "\n",
    "#Specify features and outcome\n",
    "model_feats = turnout_train_rep_mod.drop(['Rep_Margin', 'past_turnout','Unnamed: 0','Unnamed: 0.1', 'County', 'Election', 'Turnout','Party', 'Type', 'Runoff', 'hispanic', 'black', 'white', 'asian', 'aapi', 'native', 'non-hispanic white'], axis = 1)\n",
    "\n",
    "model_outcome = turnout_train_rep_mod['Turnout']\n",
    "\n",
    "#Create model\n",
    "et = ExtraTreesRegressor()\n",
    "et.fit(model_feats, model_outcome);\n",
    "\n",
    "#Make predictions\n",
    "pred = et.predict(model_feats)\n",
    "\n",
    "#Print Score\n",
    "print(\"Training\")\n",
    "\n",
    "print(\"R^2: \",et.score(model_feats, model_outcome))\n",
    "\n",
    "\n",
    "#Print error\n",
    "print('Mean Absolute Error (MAE):', metrics.mean_absolute_error(model_outcome, pred))\n",
    "print('Mean Squared Error (MSE):', metrics.mean_squared_error(model_outcome, pred))\n",
    "\n",
    "\n",
    "#Show Importances\n",
    "importances = et.feature_importances_\n",
    "\n",
    "forest_importances = pd.Series(importances, index=model_feats.columns)\n",
    "\n",
    "fig, ax = plt.subplots()\n",
    "forest_importances.plot.bar(color = 'red')\n",
    "plt.title(\"Feature importances: ET, No Election/Race Data, Rep Model\")\n",
    "plt.ylabel(\"Mean Decrease in Impurity\")\n",
    "plt.xlabel(\"Features\")\n",
    "fig.tight_layout()\n"
   ]
  },
  {
   "cell_type": "code",
   "execution_count": 12,
   "metadata": {},
   "outputs": [
    {
     "name": "stdout",
     "output_type": "stream",
     "text": [
      "Testing: Rep Sen 2018\n",
      "R^2:  0.5282687542497588\n",
      "Mean Absolute Error (MAE): 4.4782271653543315\n",
      "Mean Squared Error (MSE): 43.29705365358269\n"
     ]
    }
   ],
   "source": [
    "np.random.seed(5)\n",
    "#Test on 2018 Senate race\n",
    "turnout_train_rep_mod = turnout_train_rep\n",
    "#Specify election\n",
    "turnout_train_rep_mod = turnout_train_rep_mod[turnout_train_rep_mod['Election'] == '2018_Rep_Sen']\n",
    "#Specify features and outcome\n",
    "\n",
    "model_feats = turnout_train_rep_mod.drop(['Rep_Margin', 'past_turnout','Unnamed: 0','Unnamed: 0.1', 'County', 'Election', 'Turnout','Party', 'Type', 'Runoff', 'hispanic', 'black', 'white', 'asian', 'aapi', 'native', 'non-hispanic white'], axis = 1)\n",
    "\n",
    "model_outcome = turnout_train_rep_mod['Turnout']\n",
    "\n",
    "#make predictions\n",
    "pred = et.predict(model_feats)\n",
    "\n",
    "#Print Score\n",
    "print(\"Testing: Rep Sen 2018\")\n",
    "\n",
    "print(\"R^2: \",et.score(model_feats, model_outcome))\n",
    "\n",
    "\n",
    "#Print error\n",
    "print('Mean Absolute Error (MAE):', metrics.mean_absolute_error(model_outcome, pred))\n",
    "print('Mean Squared Error (MSE):', metrics.mean_squared_error(model_outcome, pred))\n",
    "\n"
   ]
  },
  {
   "cell_type": "code",
   "execution_count": 14,
   "metadata": {
    "scrolled": true
   },
   "outputs": [
    {
     "name": "stdout",
     "output_type": "stream",
     "text": [
      "Testing: Rep Gov 2018\n",
      "R^2:  0.5276355250214485\n",
      "Mean Absolute Error (MAE): 4.662145275590552\n",
      "Mean Squared Error (MSE): 43.44777995909449\n"
     ]
    }
   ],
   "source": [
    "np.random.seed(5)\n",
    "#Test on 2018 Gov race\n",
    "turnout_train_rep_mod = turnout_train_rep\n",
    "#Specify election\n",
    "turnout_train_rep_mod = turnout_train_rep_mod[turnout_train_rep_mod['Election'] == '2018_Rep_Gov']\n",
    "#Specify features and outcome\n",
    "\n",
    "model_feats = turnout_train_rep_mod.drop(['Rep_Margin', 'past_turnout','Unnamed: 0','Unnamed: 0.1', 'County', 'Election', 'Turnout','Party', 'Type', 'Runoff', 'hispanic', 'black', 'white', 'asian', 'aapi', 'native', 'non-hispanic white'], axis = 1)\n",
    "\n",
    "model_outcome = turnout_train_rep_mod['Turnout']\n",
    "\n",
    "#make predictions\n",
    "pred = et.predict(model_feats)\n",
    "\n",
    "#Print Score\n",
    "print(\"Testing: Rep Gov 2018\")\n",
    "\n",
    "print(\"R^2: \",et.score(model_feats, model_outcome))\n",
    "\n",
    "#Print error\n",
    "print('Mean Absolute Error (MAE):', metrics.mean_absolute_error(model_outcome, pred))\n",
    "print('Mean Squared Error (MSE):', metrics.mean_squared_error(model_outcome, pred))\n",
    "\n"
   ]
  }
 ],
 "metadata": {
  "kernelspec": {
   "display_name": "ds",
   "language": "python",
   "name": "ds"
  },
  "language_info": {
   "codemirror_mode": {
    "name": "ipython",
    "version": 3
   },
   "file_extension": ".py",
   "mimetype": "text/x-python",
   "name": "python",
   "nbconvert_exporter": "python",
   "pygments_lexer": "ipython3",
   "version": "3.8.2"
  }
 },
 "nbformat": 4,
 "nbformat_minor": 4
}
